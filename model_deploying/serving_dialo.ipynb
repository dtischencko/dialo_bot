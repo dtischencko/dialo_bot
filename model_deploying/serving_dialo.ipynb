{
 "cells": [
  {
   "cell_type": "code",
   "execution_count": 1,
   "id": "initial_id",
   "metadata": {
    "collapsed": true,
    "ExecuteTime": {
     "end_time": "2023-09-14T10:26:48.143846565Z",
     "start_time": "2023-09-14T10:25:19.507994583Z"
    }
   },
   "outputs": [
    {
     "name": "stdout",
     "output_type": "stream",
     "text": [
      "Collecting transformers\r\n",
      "  Downloading transformers-4.33.1-py3-none-any.whl (7.6 MB)\r\n",
      "\u001B[2K     \u001B[90m━━━━━━━━━━━━━━━━━━━━━━━━━━━━━━━━━━━━━━━━\u001B[0m \u001B[32m7.6/7.6 MB\u001B[0m \u001B[31m1.7 MB/s\u001B[0m eta \u001B[36m0:00:00\u001B[0m00:01\u001B[0m00:01\u001B[0m0m\r\n",
      "\u001B[?25hCollecting mlflow\r\n",
      "  Downloading mlflow-2.7.0-py3-none-any.whl (18.5 MB)\r\n",
      "\u001B[2K     \u001B[90m━━━━━━━━━━━━━━━━━━━━━━━━━━━━━━━━━━━━━━━━\u001B[0m \u001B[32m18.5/18.5 MB\u001B[0m \u001B[31m2.5 MB/s\u001B[0m eta \u001B[36m0:00:00\u001B[0m00:01\u001B[0m00:01\u001B[0m\r\n",
      "\u001B[?25hCollecting filelock\r\n",
      "  Downloading filelock-3.12.4-py3-none-any.whl (11 kB)\r\n",
      "Requirement already satisfied: requests in /home/dity/PycharmProjects/dialo_sirius_bot/venv/lib/python3.10/site-packages (from transformers) (2.31.0)\r\n",
      "Collecting tqdm>=4.27\r\n",
      "  Downloading tqdm-4.66.1-py3-none-any.whl (78 kB)\r\n",
      "\u001B[2K     \u001B[90m━━━━━━━━━━━━━━━━━━━━━━━━━━━━━━━━━━━━━━━━\u001B[0m \u001B[32m78.3/78.3 kB\u001B[0m \u001B[31m4.1 MB/s\u001B[0m eta \u001B[36m0:00:00\u001B[0m\r\n",
      "\u001B[?25hRequirement already satisfied: numpy>=1.17 in /home/dity/PycharmProjects/dialo_sirius_bot/venv/lib/python3.10/site-packages (from transformers) (1.25.2)\r\n",
      "Requirement already satisfied: pyyaml>=5.1 in /home/dity/PycharmProjects/dialo_sirius_bot/venv/lib/python3.10/site-packages (from transformers) (6.0.1)\r\n",
      "Collecting tokenizers!=0.11.3,<0.14,>=0.11.1\r\n",
      "  Downloading tokenizers-0.13.3-cp310-cp310-manylinux_2_17_x86_64.manylinux2014_x86_64.whl (7.8 MB)\r\n",
      "\u001B[2K     \u001B[90m━━━━━━━━━━━━━━━━━━━━━━━━━━━━━━━━━━━━━━━━\u001B[0m \u001B[32m7.8/7.8 MB\u001B[0m \u001B[31m3.7 MB/s\u001B[0m eta \u001B[36m0:00:00\u001B[0m00:01\u001B[0m00:01\u001B[0m\r\n",
      "\u001B[?25hCollecting huggingface-hub<1.0,>=0.15.1\r\n",
      "  Downloading huggingface_hub-0.17.1-py3-none-any.whl (294 kB)\r\n",
      "\u001B[2K     \u001B[90m━━━━━━━━━━━━━━━━━━━━━━━━━━━━━━━━━━━━━━━\u001B[0m \u001B[32m294.8/294.8 kB\u001B[0m \u001B[31m4.7 MB/s\u001B[0m eta \u001B[36m0:00:00\u001B[0ma \u001B[36m0:00:01\u001B[0m\r\n",
      "\u001B[?25hRequirement already satisfied: packaging>=20.0 in /home/dity/PycharmProjects/dialo_sirius_bot/venv/lib/python3.10/site-packages (from transformers) (23.1)\r\n",
      "Collecting safetensors>=0.3.1\r\n",
      "  Downloading safetensors-0.3.3-cp310-cp310-manylinux_2_17_x86_64.manylinux2014_x86_64.whl (1.3 MB)\r\n",
      "\u001B[2K     \u001B[90m━━━━━━━━━━━━━━━━━━━━━━━━━━━━━━━━━━━━━━━━\u001B[0m \u001B[32m1.3/1.3 MB\u001B[0m \u001B[31m4.3 MB/s\u001B[0m eta \u001B[36m0:00:00\u001B[0m00:01\u001B[0m00:01\u001B[0m\r\n",
      "\u001B[?25hCollecting regex!=2019.12.17\r\n",
      "  Downloading regex-2023.8.8-cp310-cp310-manylinux_2_17_x86_64.manylinux2014_x86_64.whl (771 kB)\r\n",
      "\u001B[2K     \u001B[90m━━━━━━━━━━━━━━━━━━━━━━━━━━━━━━━━━━━━━━━\u001B[0m \u001B[32m771.9/771.9 kB\u001B[0m \u001B[31m4.5 MB/s\u001B[0m eta \u001B[36m0:00:00\u001B[0ma \u001B[36m0:00:01\u001B[0m\r\n",
      "\u001B[?25hCollecting importlib-metadata!=4.7.0,<7,>=3.7.0\r\n",
      "  Using cached importlib_metadata-6.8.0-py3-none-any.whl (22 kB)\r\n",
      "Collecting gunicorn<22\r\n",
      "  Downloading gunicorn-21.2.0-py3-none-any.whl (80 kB)\r\n",
      "\u001B[2K     \u001B[90m━━━━━━━━━━━━━━━━━━━━━━━━━━━━━━━━━━━━━━━━\u001B[0m \u001B[32m80.2/80.2 kB\u001B[0m \u001B[31m2.9 MB/s\u001B[0m eta \u001B[36m0:00:00\u001B[0ma \u001B[36m0:00:01\u001B[0m\r\n",
      "\u001B[?25hCollecting scikit-learn<2\r\n",
      "  Using cached scikit_learn-1.3.0-cp310-cp310-manylinux_2_17_x86_64.manylinux2014_x86_64.whl (10.8 MB)\r\n",
      "Collecting sqlparse<1,>=0.4.0\r\n",
      "  Using cached sqlparse-0.4.4-py3-none-any.whl (41 kB)\r\n",
      "Requirement already satisfied: pandas<3 in /home/dity/PycharmProjects/dialo_sirius_bot/venv/lib/python3.10/site-packages (from mlflow) (2.1.0)\r\n",
      "Requirement already satisfied: pytz<2024 in /home/dity/PycharmProjects/dialo_sirius_bot/venv/lib/python3.10/site-packages (from mlflow) (2023.3.post1)\r\n",
      "Collecting entrypoints<1\r\n",
      "  Using cached entrypoints-0.4-py3-none-any.whl (5.3 kB)\r\n",
      "Collecting databricks-cli<1,>=0.8.7\r\n",
      "  Using cached databricks_cli-0.17.7-py3-none-any.whl\r\n",
      "Collecting sqlalchemy<3,>=1.4.0\r\n",
      "  Downloading SQLAlchemy-2.0.20-cp310-cp310-manylinux_2_17_x86_64.manylinux2014_x86_64.whl (3.0 MB)\r\n",
      "\u001B[2K     \u001B[90m━━━━━━━━━━━━━━━━━━━━━━━━━━━━━━━━━━━━━━━━\u001B[0m \u001B[32m3.0/3.0 MB\u001B[0m \u001B[31m4.2 MB/s\u001B[0m eta \u001B[36m0:00:00\u001B[0m00:01\u001B[0m00:01\u001B[0m\r\n",
      "\u001B[?25hCollecting scipy<2\r\n",
      "  Downloading scipy-1.11.2-cp310-cp310-manylinux_2_17_x86_64.manylinux2014_x86_64.whl (36.3 MB)\r\n",
      "\u001B[2K     \u001B[90m━━━━━━━━━━━━━━━━━━━━━━━━━━━━━━━━━━━━━━━━\u001B[0m \u001B[32m36.3/36.3 MB\u001B[0m \u001B[31m1.9 MB/s\u001B[0m eta \u001B[36m0:00:00\u001B[0m00:01\u001B[0m00:01\u001B[0m\r\n",
      "\u001B[?25hCollecting alembic!=1.10.0,<2\r\n",
      "  Downloading alembic-1.12.0-py3-none-any.whl (226 kB)\r\n",
      "\u001B[2K     \u001B[90m━━━━━━━━━━━━━━━━━━━━━━━━━━━━━━━━━━━━━━━\u001B[0m \u001B[32m226.0/226.0 kB\u001B[0m \u001B[31m2.4 MB/s\u001B[0m eta \u001B[36m0:00:00\u001B[0ma \u001B[36m0:00:01\u001B[0m\r\n",
      "\u001B[?25hCollecting querystring-parser<2\r\n",
      "  Using cached querystring_parser-1.2.4-py2.py3-none-any.whl (7.9 kB)\r\n",
      "Collecting markdown<4,>=3.3\r\n",
      "  Downloading Markdown-3.4.4-py3-none-any.whl (94 kB)\r\n",
      "\u001B[2K     \u001B[90m━━━━━━━━━━━━━━━━━━━━━━━━━━━━━━━━━━━━━━━━\u001B[0m \u001B[32m94.2/94.2 kB\u001B[0m \u001B[31m2.4 MB/s\u001B[0m eta \u001B[36m0:00:00\u001B[0m00:01\u001B[0m\r\n",
      "\u001B[?25hCollecting docker<7,>=4.0.0\r\n",
      "  Using cached docker-6.1.3-py3-none-any.whl (148 kB)\r\n",
      "Requirement already satisfied: Jinja2<4,>=2.11 in /home/dity/PycharmProjects/dialo_sirius_bot/venv/lib/python3.10/site-packages (from mlflow) (3.1.2)\r\n",
      "Requirement already satisfied: click<9,>=7.0 in /home/dity/PycharmProjects/dialo_sirius_bot/venv/lib/python3.10/site-packages (from mlflow) (8.1.7)\r\n",
      "Collecting matplotlib<4\r\n",
      "  Downloading matplotlib-3.7.3-cp310-cp310-manylinux_2_17_x86_64.manylinux2014_x86_64.whl (11.6 MB)\r\n",
      "\u001B[2K     \u001B[90m━━━━━━━━━━━━━━━━━━━━━━━━━━━━━━━━━━━━━━━━\u001B[0m \u001B[32m11.6/11.6 MB\u001B[0m \u001B[31m2.6 MB/s\u001B[0m eta \u001B[36m0:00:00\u001B[0m00:01\u001B[0m00:01\u001B[0m\r\n",
      "\u001B[?25hCollecting gitpython<4,>=2.1.0\r\n",
      "  Downloading GitPython-3.1.36-py3-none-any.whl (189 kB)\r\n",
      "\u001B[2K     \u001B[90m━━━━━━━━━━━━━━━━━━━━━━━━━━━━━━━━━━━━━━━\u001B[0m \u001B[32m189.5/189.5 kB\u001B[0m \u001B[31m6.6 MB/s\u001B[0m eta \u001B[36m0:00:00\u001B[0ma \u001B[36m0:00:01\u001B[0m\r\n",
      "\u001B[?25hCollecting protobuf<5,>=3.12.0\r\n",
      "  Downloading protobuf-4.24.3-cp37-abi3-manylinux2014_x86_64.whl (311 kB)\r\n",
      "\u001B[2K     \u001B[90m━━━━━━━━━━━━━━━━━━━━━━━━━━━━━━━━━━━━━━━\u001B[0m \u001B[32m311.6/311.6 kB\u001B[0m \u001B[31m3.6 MB/s\u001B[0m eta \u001B[36m0:00:00\u001B[0ma \u001B[36m0:00:01\u001B[0m\r\n",
      "\u001B[?25hCollecting cloudpickle<3\r\n",
      "  Using cached cloudpickle-2.2.1-py3-none-any.whl (25 kB)\r\n",
      "Collecting pyarrow<14,>=4.0.0\r\n",
      "  Downloading pyarrow-13.0.0-cp310-cp310-manylinux_2_28_x86_64.whl (40.0 MB)\r\n",
      "\u001B[2K     \u001B[90m━━━━━━━━━━━━━━━━━━━━━━━━━━━━━━━━━━━━━━━━\u001B[0m \u001B[32m40.0/40.0 MB\u001B[0m \u001B[31m5.9 MB/s\u001B[0m eta \u001B[36m0:00:00\u001B[0m00:01\u001B[0m00:01\u001B[0m\r\n",
      "\u001B[?25hCollecting Flask<3\r\n",
      "  Downloading flask-2.3.3-py3-none-any.whl (96 kB)\r\n",
      "\u001B[2K     \u001B[90m━━━━━━━━━━━━━━━━━━━━━━━━━━━━━━━━━━━━━━━━\u001B[0m \u001B[32m96.1/96.1 kB\u001B[0m \u001B[31m2.4 MB/s\u001B[0m eta \u001B[36m0:00:00\u001B[0ma \u001B[36m0:00:01\u001B[0m\r\n",
      "\u001B[?25hRequirement already satisfied: typing-extensions>=4 in /home/dity/PycharmProjects/dialo_sirius_bot/venv/lib/python3.10/site-packages (from alembic!=1.10.0,<2->mlflow) (4.7.1)\r\n",
      "Collecting Mako\r\n",
      "  Using cached Mako-1.2.4-py3-none-any.whl (78 kB)\r\n",
      "Collecting oauthlib>=3.1.0\r\n",
      "  Using cached oauthlib-3.2.2-py3-none-any.whl (151 kB)\r\n",
      "Collecting urllib3<2.0.0,>=1.26.7\r\n",
      "  Using cached urllib3-1.26.16-py2.py3-none-any.whl (143 kB)\r\n",
      "Collecting pyjwt>=1.7.0\r\n",
      "  Downloading PyJWT-2.8.0-py3-none-any.whl (22 kB)\r\n",
      "Collecting tabulate>=0.7.7\r\n",
      "  Using cached tabulate-0.9.0-py3-none-any.whl (35 kB)\r\n",
      "Requirement already satisfied: six>=1.10.0 in /home/dity/PycharmProjects/dialo_sirius_bot/venv/lib/python3.10/site-packages (from databricks-cli<1,>=0.8.7->mlflow) (1.16.0)\r\n",
      "Requirement already satisfied: websocket-client>=0.32.0 in /home/dity/PycharmProjects/dialo_sirius_bot/venv/lib/python3.10/site-packages (from docker<7,>=4.0.0->mlflow) (1.6.3)\r\n",
      "Collecting blinker>=1.6.2\r\n",
      "  Using cached blinker-1.6.2-py3-none-any.whl (13 kB)\r\n",
      "Collecting Werkzeug>=2.3.7\r\n",
      "  Downloading werkzeug-2.3.7-py3-none-any.whl (242 kB)\r\n",
      "\u001B[2K     \u001B[90m━━━━━━━━━━━━━━━━━━━━━━━━━━━━━━━━━━━━━━\u001B[0m \u001B[32m242.2/242.2 kB\u001B[0m \u001B[31m10.3 MB/s\u001B[0m eta \u001B[36m0:00:00\u001B[0m\r\n",
      "\u001B[?25hCollecting itsdangerous>=2.1.2\r\n",
      "  Using cached itsdangerous-2.1.2-py3-none-any.whl (15 kB)\r\n",
      "Collecting gitdb<5,>=4.0.1\r\n",
      "  Using cached gitdb-4.0.10-py3-none-any.whl (62 kB)\r\n",
      "Collecting fsspec\r\n",
      "  Downloading fsspec-2023.9.0-py3-none-any.whl (173 kB)\r\n",
      "\u001B[2K     \u001B[90m━━━━━━━━━━━━━━━━━━━━━━━━━━━━━━━━━━━━━━\u001B[0m \u001B[32m173.2/173.2 kB\u001B[0m \u001B[31m27.5 MB/s\u001B[0m eta \u001B[36m0:00:00\u001B[0m\r\n",
      "\u001B[?25hCollecting zipp>=0.5\r\n",
      "  Downloading zipp-3.16.2-py3-none-any.whl (7.2 kB)\r\n",
      "Requirement already satisfied: MarkupSafe>=2.0 in /home/dity/PycharmProjects/dialo_sirius_bot/venv/lib/python3.10/site-packages (from Jinja2<4,>=2.11->mlflow) (2.1.3)\r\n",
      "Requirement already satisfied: python-dateutil>=2.7 in /home/dity/PycharmProjects/dialo_sirius_bot/venv/lib/python3.10/site-packages (from matplotlib<4->mlflow) (2.8.2)\r\n",
      "Collecting cycler>=0.10\r\n",
      "  Using cached cycler-0.11.0-py3-none-any.whl (6.4 kB)\r\n",
      "Collecting fonttools>=4.22.0\r\n",
      "  Downloading fonttools-4.42.1-cp310-cp310-manylinux_2_17_x86_64.manylinux2014_x86_64.whl (4.5 MB)\r\n",
      "\u001B[2K     \u001B[90m━━━━━━━━━━━━━━━━━━━━━━━━━━━━━━━━━━━━━━━━\u001B[0m \u001B[32m4.5/4.5 MB\u001B[0m \u001B[31m6.7 MB/s\u001B[0m eta \u001B[36m0:00:00\u001B[0m00:01\u001B[0m00:01\u001B[0m\r\n",
      "\u001B[?25hCollecting contourpy>=1.0.1\r\n",
      "  Using cached contourpy-1.1.0-cp310-cp310-manylinux_2_17_x86_64.manylinux2014_x86_64.whl (300 kB)\r\n",
      "Collecting pillow>=6.2.0\r\n",
      "  Using cached Pillow-10.0.0-cp310-cp310-manylinux_2_28_x86_64.whl (3.4 MB)\r\n",
      "Collecting pyparsing>=2.3.1\r\n",
      "  Downloading pyparsing-3.1.1-py3-none-any.whl (103 kB)\r\n",
      "\u001B[2K     \u001B[90m━━━━━━━━━━━━━━━━━━━━━━━━━━━━━━━━━━━━━━━\u001B[0m \u001B[32m103.1/103.1 kB\u001B[0m \u001B[31m3.7 MB/s\u001B[0m eta \u001B[36m0:00:00\u001B[0m\r\n",
      "\u001B[?25hCollecting kiwisolver>=1.0.1\r\n",
      "  Downloading kiwisolver-1.4.5-cp310-cp310-manylinux_2_12_x86_64.manylinux2010_x86_64.whl (1.6 MB)\r\n",
      "\u001B[2K     \u001B[90m━━━━━━━━━━━━━━━━━━━━━━━━━━━━━━━━━━━━━━━━\u001B[0m \u001B[32m1.6/1.6 MB\u001B[0m \u001B[31m6.3 MB/s\u001B[0m eta \u001B[36m0:00:00\u001B[0m00:01\u001B[0m00:01\u001B[0mm\r\n",
      "\u001B[?25hRequirement already satisfied: tzdata>=2022.1 in /home/dity/PycharmProjects/dialo_sirius_bot/venv/lib/python3.10/site-packages (from pandas<3->mlflow) (2023.3)\r\n",
      "Requirement already satisfied: charset-normalizer<4,>=2 in /home/dity/PycharmProjects/dialo_sirius_bot/venv/lib/python3.10/site-packages (from requests->transformers) (3.2.0)\r\n",
      "Requirement already satisfied: idna<4,>=2.5 in /home/dity/PycharmProjects/dialo_sirius_bot/venv/lib/python3.10/site-packages (from requests->transformers) (3.4)\r\n",
      "Requirement already satisfied: certifi>=2017.4.17 in /home/dity/PycharmProjects/dialo_sirius_bot/venv/lib/python3.10/site-packages (from requests->transformers) (2023.7.22)\r\n",
      "Collecting joblib>=1.1.1\r\n",
      "  Downloading joblib-1.3.2-py3-none-any.whl (302 kB)\r\n",
      "\u001B[2K     \u001B[90m━━━━━━━━━━━━━━━━━━━━━━━━━━━━━━━━━━━━━━━\u001B[0m \u001B[32m302.2/302.2 kB\u001B[0m \u001B[31m7.5 MB/s\u001B[0m eta \u001B[36m0:00:00\u001B[0m00:01\u001B[0m\r\n",
      "\u001B[?25hCollecting threadpoolctl>=2.0.0\r\n",
      "  Downloading threadpoolctl-3.2.0-py3-none-any.whl (15 kB)\r\n",
      "Collecting greenlet!=0.4.17\r\n",
      "  Using cached greenlet-2.0.2-cp310-cp310-manylinux_2_17_x86_64.manylinux2014_x86_64.whl (613 kB)\r\n",
      "Collecting smmap<6,>=3.0.1\r\n",
      "  Using cached smmap-5.0.0-py3-none-any.whl (24 kB)\r\n",
      "Installing collected packages: tokenizers, safetensors, zipp, Werkzeug, urllib3, tqdm, threadpoolctl, tabulate, sqlparse, smmap, scipy, regex, querystring-parser, pyparsing, pyjwt, pyarrow, protobuf, pillow, oauthlib, markdown, Mako, kiwisolver, joblib, itsdangerous, gunicorn, greenlet, fsspec, fonttools, filelock, entrypoints, cycler, contourpy, cloudpickle, blinker, sqlalchemy, scikit-learn, matplotlib, importlib-metadata, gitdb, Flask, huggingface-hub, gitpython, docker, databricks-cli, alembic, transformers, mlflow\r\n",
      "  Attempting uninstall: urllib3\r\n",
      "    Found existing installation: urllib3 2.0.4\r\n",
      "    Uninstalling urllib3-2.0.4:\r\n",
      "      Successfully uninstalled urllib3-2.0.4\r\n",
      "Successfully installed Flask-2.3.3 Mako-1.2.4 Werkzeug-2.3.7 alembic-1.12.0 blinker-1.6.2 cloudpickle-2.2.1 contourpy-1.1.0 cycler-0.11.0 databricks-cli-0.17.7 docker-6.1.3 entrypoints-0.4 filelock-3.12.4 fonttools-4.42.1 fsspec-2023.9.0 gitdb-4.0.10 gitpython-3.1.36 greenlet-2.0.2 gunicorn-21.2.0 huggingface-hub-0.17.1 importlib-metadata-6.8.0 itsdangerous-2.1.2 joblib-1.3.2 kiwisolver-1.4.5 markdown-3.4.4 matplotlib-3.7.3 mlflow-2.7.0 oauthlib-3.2.2 pillow-10.0.0 protobuf-4.24.3 pyarrow-13.0.0 pyjwt-2.8.0 pyparsing-3.1.1 querystring-parser-1.2.4 regex-2023.8.8 safetensors-0.3.3 scikit-learn-1.3.0 scipy-1.11.2 smmap-5.0.0 sqlalchemy-2.0.20 sqlparse-0.4.4 tabulate-0.9.0 threadpoolctl-3.2.0 tokenizers-0.13.3 tqdm-4.66.1 transformers-4.33.1 urllib3-1.26.16 zipp-3.16.2\r\n",
      "\r\n",
      "\u001B[1m[\u001B[0m\u001B[34;49mnotice\u001B[0m\u001B[1;39;49m]\u001B[0m\u001B[39;49m A new release of pip available: \u001B[0m\u001B[31;49m22.3.1\u001B[0m\u001B[39;49m -> \u001B[0m\u001B[32;49m23.2.1\u001B[0m\r\n",
      "\u001B[1m[\u001B[0m\u001B[34;49mnotice\u001B[0m\u001B[1;39;49m]\u001B[0m\u001B[39;49m To update, run: \u001B[0m\u001B[32;49mpip install --upgrade pip\u001B[0m\r\n"
     ]
    }
   ],
   "source": [
    "!pip install transformers mlflow"
   ]
  },
  {
   "cell_type": "code",
   "execution_count": 4,
   "outputs": [
    {
     "name": "stdout",
     "output_type": "stream",
     "text": [
      "Collecting python-decouple\r\n",
      "  Downloading python_decouple-3.8-py3-none-any.whl (9.9 kB)\r\n",
      "Installing collected packages: python-decouple\r\n",
      "Successfully installed python-decouple-3.8\r\n",
      "\r\n",
      "\u001B[1m[\u001B[0m\u001B[34;49mnotice\u001B[0m\u001B[1;39;49m]\u001B[0m\u001B[39;49m A new release of pip available: \u001B[0m\u001B[31;49m22.3.1\u001B[0m\u001B[39;49m -> \u001B[0m\u001B[32;49m23.2.1\u001B[0m\r\n",
      "\u001B[1m[\u001B[0m\u001B[34;49mnotice\u001B[0m\u001B[1;39;49m]\u001B[0m\u001B[39;49m To update, run: \u001B[0m\u001B[32;49mpip install --upgrade pip\u001B[0m\r\n"
     ]
    }
   ],
   "source": [
    "!pip install python-decouple"
   ],
   "metadata": {
    "collapsed": false,
    "ExecuteTime": {
     "end_time": "2023-09-14T10:34:36.276153068Z",
     "start_time": "2023-09-14T10:34:25.399124831Z"
    }
   },
   "id": "c76479d834c93304"
  },
  {
   "cell_type": "code",
   "execution_count": 4,
   "outputs": [
    {
     "name": "stdout",
     "output_type": "stream",
     "text": [
      "Collecting tensorflow\r\n",
      "  Using cached tensorflow-2.13.0-cp310-cp310-manylinux_2_17_x86_64.manylinux2014_x86_64.whl (524.1 MB)\r\n",
      "Collecting flatbuffers>=23.1.21\r\n",
      "  Using cached flatbuffers-23.5.26-py2.py3-none-any.whl (26 kB)\r\n",
      "Requirement already satisfied: six>=1.12.0 in /home/dity/PycharmProjects/dialo_sirius_bot/venv/lib/python3.10/site-packages (from tensorflow) (1.16.0)\r\n",
      "Collecting wrapt>=1.11.0\r\n",
      "  Using cached wrapt-1.15.0-cp310-cp310-manylinux_2_5_x86_64.manylinux1_x86_64.manylinux_2_17_x86_64.manylinux2014_x86_64.whl (78 kB)\r\n",
      "Collecting absl-py>=1.0.0\r\n",
      "  Using cached absl_py-1.4.0-py3-none-any.whl (126 kB)\r\n",
      "Collecting tensorboard<2.14,>=2.13\r\n",
      "  Using cached tensorboard-2.13.0-py3-none-any.whl (5.6 MB)\r\n",
      "Requirement already satisfied: packaging in /home/dity/PycharmProjects/dialo_sirius_bot/venv/lib/python3.10/site-packages (from tensorflow) (23.1)\r\n",
      "Collecting astunparse>=1.6.0\r\n",
      "  Using cached astunparse-1.6.3-py2.py3-none-any.whl (12 kB)\r\n",
      "Collecting libclang>=13.0.0\r\n",
      "  Downloading libclang-16.0.6-py2.py3-none-manylinux2010_x86_64.whl (22.9 MB)\r\n",
      "\u001B[2K     \u001B[90m━━━━━━━━━━━━━━━━━━━━━━━━━━━━━━━━━━━━━━━━\u001B[0m \u001B[32m22.9/22.9 MB\u001B[0m \u001B[31m1.9 MB/s\u001B[0m eta \u001B[36m0:00:00\u001B[0m00:01\u001B[0m00:01\u001B[0m\r\n",
      "\u001B[?25hCollecting gast<=0.4.0,>=0.2.1\r\n",
      "  Using cached gast-0.4.0-py3-none-any.whl (9.8 kB)\r\n",
      "Collecting tensorflow-estimator<2.14,>=2.13.0\r\n",
      "  Using cached tensorflow_estimator-2.13.0-py2.py3-none-any.whl (440 kB)\r\n",
      "Collecting termcolor>=1.1.0\r\n",
      "  Using cached termcolor-2.3.0-py3-none-any.whl (6.9 kB)\r\n",
      "Collecting tensorflow-io-gcs-filesystem>=0.23.1\r\n",
      "  Downloading tensorflow_io_gcs_filesystem-0.34.0-cp310-cp310-manylinux_2_12_x86_64.manylinux2010_x86_64.whl (2.4 MB)\r\n",
      "\u001B[2K     \u001B[90m━━━━━━━━━━━━━━━━━━━━━━━━━━━━━━━━━━━━━━━━\u001B[0m \u001B[32m2.4/2.4 MB\u001B[0m \u001B[31m2.9 MB/s\u001B[0m eta \u001B[36m0:00:00\u001B[0ma \u001B[36m0:00:01\u001B[0m\r\n",
      "\u001B[?25hCollecting google-pasta>=0.1.1\r\n",
      "  Using cached google_pasta-0.2.0-py3-none-any.whl (57 kB)\r\n",
      "Requirement already satisfied: protobuf!=4.21.0,!=4.21.1,!=4.21.2,!=4.21.3,!=4.21.4,!=4.21.5,<5.0.0dev,>=3.20.3 in /home/dity/PycharmProjects/dialo_sirius_bot/venv/lib/python3.10/site-packages (from tensorflow) (4.24.3)\r\n",
      "Requirement already satisfied: setuptools in /home/dity/PycharmProjects/dialo_sirius_bot/venv/lib/python3.10/site-packages (from tensorflow) (65.5.1)\r\n",
      "Collecting grpcio<2.0,>=1.24.3\r\n",
      "  Downloading grpcio-1.58.0-cp310-cp310-manylinux_2_17_x86_64.manylinux2014_x86_64.whl (5.3 MB)\r\n",
      "\u001B[2K     \u001B[90m━━━━━━━━━━━━━━━━━━━━━━━━━━━━━━━━━━━━━━━━\u001B[0m \u001B[32m5.3/5.3 MB\u001B[0m \u001B[31m3.1 MB/s\u001B[0m eta \u001B[36m0:00:00\u001B[0m00:01\u001B[0m00:01\u001B[0m\r\n",
      "\u001B[?25hCollecting h5py>=2.9.0\r\n",
      "  Using cached h5py-3.9.0-cp310-cp310-manylinux_2_17_x86_64.manylinux2014_x86_64.whl (4.8 MB)\r\n",
      "Collecting typing-extensions<4.6.0,>=3.6.6\r\n",
      "  Using cached typing_extensions-4.5.0-py3-none-any.whl (27 kB)\r\n",
      "Collecting numpy<=1.24.3,>=1.22\r\n",
      "  Using cached numpy-1.24.3-cp310-cp310-manylinux_2_17_x86_64.manylinux2014_x86_64.whl (17.3 MB)\r\n",
      "Collecting opt-einsum>=2.3.2\r\n",
      "  Using cached opt_einsum-3.3.0-py3-none-any.whl (65 kB)\r\n",
      "Collecting keras<2.14,>=2.13.1\r\n",
      "  Using cached keras-2.13.1-py3-none-any.whl (1.7 MB)\r\n",
      "Requirement already satisfied: wheel<1.0,>=0.23.0 in /home/dity/PycharmProjects/dialo_sirius_bot/venv/lib/python3.10/site-packages (from astunparse>=1.6.0->tensorflow) (0.38.4)\r\n",
      "Collecting google-auth-oauthlib<1.1,>=0.5\r\n",
      "  Using cached google_auth_oauthlib-1.0.0-py2.py3-none-any.whl (18 kB)\r\n",
      "Collecting google-auth<3,>=1.6.3\r\n",
      "  Downloading google_auth-2.23.0-py2.py3-none-any.whl (181 kB)\r\n",
      "\u001B[2K     \u001B[90m━━━━━━━━━━━━━━━━━━━━━━━━━━━━━━━━━━━━━━━\u001B[0m \u001B[32m181.4/181.4 kB\u001B[0m \u001B[31m3.7 MB/s\u001B[0m eta \u001B[36m0:00:00\u001B[0ma \u001B[36m0:00:01\u001B[0m\r\n",
      "\u001B[?25hRequirement already satisfied: requests<3,>=2.21.0 in /home/dity/PycharmProjects/dialo_sirius_bot/venv/lib/python3.10/site-packages (from tensorboard<2.14,>=2.13->tensorflow) (2.31.0)\r\n",
      "Requirement already satisfied: markdown>=2.6.8 in /home/dity/PycharmProjects/dialo_sirius_bot/venv/lib/python3.10/site-packages (from tensorboard<2.14,>=2.13->tensorflow) (3.4.4)\r\n",
      "Requirement already satisfied: werkzeug>=1.0.1 in /home/dity/PycharmProjects/dialo_sirius_bot/venv/lib/python3.10/site-packages (from tensorboard<2.14,>=2.13->tensorflow) (2.3.7)\r\n",
      "Collecting tensorboard-data-server<0.8.0,>=0.7.0\r\n",
      "  Using cached tensorboard_data_server-0.7.1-py3-none-manylinux2014_x86_64.whl (6.6 MB)\r\n",
      "Collecting rsa<5,>=3.1.4\r\n",
      "  Using cached rsa-4.9-py3-none-any.whl (34 kB)\r\n",
      "Collecting pyasn1-modules>=0.2.1\r\n",
      "  Using cached pyasn1_modules-0.3.0-py2.py3-none-any.whl (181 kB)\r\n",
      "Collecting cachetools<6.0,>=2.0.0\r\n",
      "  Using cached cachetools-5.3.1-py3-none-any.whl (9.3 kB)\r\n",
      "Requirement already satisfied: urllib3<2.0 in /home/dity/PycharmProjects/dialo_sirius_bot/venv/lib/python3.10/site-packages (from google-auth<3,>=1.6.3->tensorboard<2.14,>=2.13->tensorflow) (1.26.16)\r\n",
      "Collecting requests-oauthlib>=0.7.0\r\n",
      "  Using cached requests_oauthlib-1.3.1-py2.py3-none-any.whl (23 kB)\r\n",
      "Requirement already satisfied: charset-normalizer<4,>=2 in /home/dity/PycharmProjects/dialo_sirius_bot/venv/lib/python3.10/site-packages (from requests<3,>=2.21.0->tensorboard<2.14,>=2.13->tensorflow) (3.2.0)\r\n",
      "Requirement already satisfied: certifi>=2017.4.17 in /home/dity/PycharmProjects/dialo_sirius_bot/venv/lib/python3.10/site-packages (from requests<3,>=2.21.0->tensorboard<2.14,>=2.13->tensorflow) (2023.7.22)\r\n",
      "Requirement already satisfied: idna<4,>=2.5 in /home/dity/PycharmProjects/dialo_sirius_bot/venv/lib/python3.10/site-packages (from requests<3,>=2.21.0->tensorboard<2.14,>=2.13->tensorflow) (3.4)\r\n",
      "Requirement already satisfied: MarkupSafe>=2.1.1 in /home/dity/PycharmProjects/dialo_sirius_bot/venv/lib/python3.10/site-packages (from werkzeug>=1.0.1->tensorboard<2.14,>=2.13->tensorflow) (2.1.3)\r\n",
      "Collecting pyasn1<0.6.0,>=0.4.6\r\n",
      "  Using cached pyasn1-0.5.0-py2.py3-none-any.whl (83 kB)\r\n",
      "Requirement already satisfied: oauthlib>=3.0.0 in /home/dity/PycharmProjects/dialo_sirius_bot/venv/lib/python3.10/site-packages (from requests-oauthlib>=0.7.0->google-auth-oauthlib<1.1,>=0.5->tensorboard<2.14,>=2.13->tensorflow) (3.2.2)\r\n",
      "Installing collected packages: libclang, flatbuffers, wrapt, typing-extensions, termcolor, tensorflow-io-gcs-filesystem, tensorflow-estimator, tensorboard-data-server, pyasn1, numpy, keras, grpcio, google-pasta, gast, cachetools, astunparse, absl-py, rsa, requests-oauthlib, pyasn1-modules, opt-einsum, h5py, google-auth, google-auth-oauthlib, tensorboard, tensorflow\r\n",
      "  Attempting uninstall: typing-extensions\r\n",
      "    Found existing installation: typing_extensions 4.7.1\r\n",
      "    Uninstalling typing_extensions-4.7.1:\r\n",
      "      Successfully uninstalled typing_extensions-4.7.1\r\n",
      "  Attempting uninstall: numpy\r\n",
      "    Found existing installation: numpy 1.25.2\r\n",
      "    Uninstalling numpy-1.25.2:\r\n",
      "      Successfully uninstalled numpy-1.25.2\r\n",
      "Successfully installed absl-py-1.4.0 astunparse-1.6.3 cachetools-5.3.1 flatbuffers-23.5.26 gast-0.4.0 google-auth-2.23.0 google-auth-oauthlib-1.0.0 google-pasta-0.2.0 grpcio-1.58.0 h5py-3.9.0 keras-2.13.1 libclang-16.0.6 numpy-1.24.3 opt-einsum-3.3.0 pyasn1-0.5.0 pyasn1-modules-0.3.0 requests-oauthlib-1.3.1 rsa-4.9 tensorboard-2.13.0 tensorboard-data-server-0.7.1 tensorflow-2.13.0 tensorflow-estimator-2.13.0 tensorflow-io-gcs-filesystem-0.34.0 termcolor-2.3.0 typing-extensions-4.5.0 wrapt-1.15.0\r\n",
      "\r\n",
      "\u001B[1m[\u001B[0m\u001B[34;49mnotice\u001B[0m\u001B[1;39;49m]\u001B[0m\u001B[39;49m A new release of pip available: \u001B[0m\u001B[31;49m22.3.1\u001B[0m\u001B[39;49m -> \u001B[0m\u001B[32;49m23.2.1\u001B[0m\r\n",
      "\u001B[1m[\u001B[0m\u001B[34;49mnotice\u001B[0m\u001B[1;39;49m]\u001B[0m\u001B[39;49m To update, run: \u001B[0m\u001B[32;49mpip install --upgrade pip\u001B[0m\r\n"
     ]
    }
   ],
   "source": [
    "!pip install tensorflow"
   ],
   "metadata": {
    "collapsed": false,
    "ExecuteTime": {
     "end_time": "2023-09-14T13:34:43.235578038Z",
     "start_time": "2023-09-14T13:34:00.864268952Z"
    }
   },
   "id": "4c8a509b9d9c42bc"
  },
  {
   "cell_type": "code",
   "execution_count": 1,
   "outputs": [
    {
     "name": "stderr",
     "output_type": "stream",
     "text": [
      "2023-09-15 08:52:43.338408: I tensorflow/tsl/cuda/cudart_stub.cc:28] Could not find cuda drivers on your machine, GPU will not be used.\n",
      "2023-09-15 08:52:43.485215: I tensorflow/tsl/cuda/cudart_stub.cc:28] Could not find cuda drivers on your machine, GPU will not be used.\n",
      "2023-09-15 08:52:43.486845: I tensorflow/core/platform/cpu_feature_guard.cc:182] This TensorFlow binary is optimized to use available CPU instructions in performance-critical operations.\n",
      "To enable the following instructions: AVX2 FMA, in other operations, rebuild TensorFlow with the appropriate compiler flags.\n",
      "2023-09-15 08:52:44.518475: W tensorflow/compiler/tf2tensorrt/utils/py_utils.cc:38] TF-TRT Warning: Could not find TensorRT\n"
     ]
    }
   ],
   "source": [
    "import os\n",
    "import numpy as np\n",
    "import pandas as pd\n",
    "import boto3\n",
    "from decouple import Config, RepositoryEnv\n",
    "\n",
    "import tensorflow as tf\n",
    "from tensorflow import keras\n",
    "from transformers import TFAutoModelForCausalLM, AutoTokenizer\n",
    "import mlflow\n",
    "from huggingface_hub import login"
   ],
   "metadata": {
    "collapsed": false,
    "ExecuteTime": {
     "end_time": "2023-09-15T05:52:45.986151156Z",
     "start_time": "2023-09-15T05:52:42.375576801Z"
    }
   },
   "id": "90e43b57a8c1c136"
  },
  {
   "cell_type": "code",
   "execution_count": 2,
   "outputs": [],
   "source": [
    "os.environ['MLFLOW_S3_ENDPOINT_URL'] = \"http://truenas.local:9000\"\n",
    "os.environ[\"MLFLOW_TRACKING_URI\"] = \"http://192.168.1.14:5000\"\n",
    "config = Config(RepositoryEnv('.env'))\n",
    "HF_TOKEN = config('HF_TOKEN')\n",
    "\n",
    "EXPERIMENT_NAME = \"Sirius DialoGPT Model\""
   ],
   "metadata": {
    "collapsed": false,
    "ExecuteTime": {
     "end_time": "2023-09-15T05:52:46.004532761Z",
     "start_time": "2023-09-15T05:52:45.986883922Z"
    }
   },
   "id": "c6f2631a3d311dd7"
  },
  {
   "cell_type": "code",
   "execution_count": 3,
   "outputs": [],
   "source": [
    "experiment = mlflow.set_experiment(EXPERIMENT_NAME)"
   ],
   "metadata": {
    "collapsed": false,
    "ExecuteTime": {
     "end_time": "2023-09-14T13:42:01.283672599Z",
     "start_time": "2023-09-14T13:42:01.226123921Z"
    }
   },
   "id": "861f8918e23288eb"
  },
  {
   "cell_type": "code",
   "execution_count": 4,
   "outputs": [
    {
     "data": {
      "text/plain": "Downloading (…)lve/main/config.json:   0%|          | 0.00/877 [00:00<?, ?B/s]",
      "application/vnd.jupyter.widget-view+json": {
       "version_major": 2,
       "version_minor": 0,
       "model_id": "0d5e6fe5b674471fb5788975838e5aec"
      }
     },
     "metadata": {},
     "output_type": "display_data"
    },
    {
     "data": {
      "text/plain": "Downloading tf_model.h5:   0%|          | 0.00/1.42G [00:00<?, ?B/s]",
      "application/vnd.jupyter.widget-view+json": {
       "version_major": 2,
       "version_minor": 0,
       "model_id": "0c8c40d94ff2492fb0a39618d73d7812"
      }
     },
     "metadata": {},
     "output_type": "display_data"
    },
    {
     "name": "stderr",
     "output_type": "stream",
     "text": [
      "2023-09-14 16:52:12.465777: I tensorflow/compiler/xla/stream_executor/cuda/cuda_gpu_executor.cc:995] successful NUMA node read from SysFS had negative value (-1), but there must be at least one NUMA node, so returning NUMA node zero. See more at https://github.com/torvalds/linux/blob/v6.0/Documentation/ABI/testing/sysfs-bus-pci#L344-L355\n",
      "2023-09-14 16:52:12.466322: W tensorflow/core/common_runtime/gpu/gpu_device.cc:1960] Cannot dlopen some GPU libraries. Please make sure the missing libraries mentioned above are installed properly if you would like to use GPU. Follow the guide at https://www.tensorflow.org/install/gpu for how to download and setup the required libraries for your platform.\n",
      "Skipping registering GPU devices...\n",
      "2023-09-14 16:52:12.733534: W tensorflow/tsl/framework/cpu_allocator_impl.cc:83] Allocation of 205852672 exceeds 10% of free system memory.\n",
      "2023-09-14 16:52:13.071621: W tensorflow/tsl/framework/cpu_allocator_impl.cc:83] Allocation of 205852672 exceeds 10% of free system memory.\n",
      "2023-09-14 16:52:13.109326: W tensorflow/tsl/framework/cpu_allocator_impl.cc:83] Allocation of 205852672 exceeds 10% of free system memory.\n",
      "2023-09-14 16:52:16.936950: W tensorflow/tsl/framework/cpu_allocator_impl.cc:83] Allocation of 205852672 exceeds 10% of free system memory.\n",
      "2023-09-14 16:52:18.537745: W tensorflow/tsl/framework/cpu_allocator_impl.cc:83] Allocation of 205852672 exceeds 10% of free system memory.\n",
      "All model checkpoint layers were used when initializing TFGPT2LMHeadModel.\n",
      "\n",
      "All the layers of TFGPT2LMHeadModel were initialized from the model checkpoint at DiTy/dialogpt.\n",
      "If your task is similar to the task the model of the checkpoint was trained on, you can already use TFGPT2LMHeadModel for predictions without further training.\n",
      "/home/dity/PycharmProjects/dialo_sirius_bot/venv/lib/python3.10/site-packages/transformers/utils/hub.py:374: FutureWarning: The `use_auth_token` argument is deprecated and will be removed in v5 of Transformers.\n",
      "  warnings.warn(\n"
     ]
    },
    {
     "data": {
      "text/plain": "Downloading (…)neration_config.json:   0%|          | 0.00/119 [00:00<?, ?B/s]",
      "application/vnd.jupyter.widget-view+json": {
       "version_major": 2,
       "version_minor": 0,
       "model_id": "fba0e8b998d944fe8d36c8d082f3de8a"
      }
     },
     "metadata": {},
     "output_type": "display_data"
    }
   ],
   "source": [
    "architecture = \"DiTy/dialogpt\"\n",
    "tokenizer = AutoTokenizer.from_pretrained(architecture, token=HF_TOKEN)\n",
    "model = TFAutoModelForCausalLM.from_pretrained(architecture, token=HF_TOKEN)"
   ],
   "metadata": {
    "collapsed": false,
    "ExecuteTime": {
     "end_time": "2023-09-14T13:52:20.015154185Z",
     "start_time": "2023-09-14T13:42:01.316158398Z"
    }
   },
   "id": "4e3b7786fa23f62"
  },
  {
   "cell_type": "code",
   "execution_count": 11,
   "outputs": [
    {
     "name": "stdout",
     "output_type": "stream",
     "text": [
      "Token will not been saved to git credential helper. Pass `add_to_git_credential=True` if you want to set the git credential as well.\n",
      "Token is valid (permission: read).\n",
      "Your token has been saved to /home/dity/.cache/huggingface/token\n",
      "Login successful\n"
     ]
    }
   ],
   "source": [
    "login(HF_TOKEN)"
   ],
   "metadata": {
    "collapsed": false,
    "ExecuteTime": {
     "end_time": "2023-09-14T14:01:23.608817938Z",
     "start_time": "2023-09-14T14:01:23.312135960Z"
    }
   },
   "id": "cc19d512b6e3c6dc"
  },
  {
   "cell_type": "code",
   "execution_count": 12,
   "outputs": [
    {
     "data": {
      "text/plain": "Downloading (…)solve/main/README.md:   0%|          | 0.00/2.28k [00:00<?, ?B/s]",
      "application/vnd.jupyter.widget-view+json": {
       "version_major": 2,
       "version_minor": 0,
       "model_id": "b77dda84af1546379702548bbb3bb122"
      }
     },
     "metadata": {},
     "output_type": "display_data"
    }
   ],
   "source": [
    "with mlflow.start_run():\n",
    "    components = {\n",
    "        \"model\": model,\n",
    "        \"tokenizer\": tokenizer,\n",
    "    }\n",
    "    mlflow.transformers.log_model(\n",
    "        transformers_model=components,\n",
    "        task=\"conversational\",\n",
    "        artifact_path=\"sirius-dialo-gpt\",\n",
    "    )"
   ],
   "metadata": {
    "collapsed": false,
    "ExecuteTime": {
     "end_time": "2023-09-14T14:05:43.164204652Z",
     "start_time": "2023-09-14T14:01:54.994515219Z"
    }
   },
   "id": "a6c402890a792753"
  },
  {
   "cell_type": "code",
   "execution_count": 3,
   "outputs": [
    {
     "data": {
      "text/plain": "Downloading artifacts:   0%|          | 0/17 [00:00<?, ?it/s]",
      "application/vnd.jupyter.widget-view+json": {
       "version_major": 2,
       "version_minor": 0,
       "model_id": "bbd254ae2b2646a48a994ae6c497e787"
      }
     },
     "metadata": {},
     "output_type": "display_data"
    },
    {
     "name": "stderr",
     "output_type": "stream",
     "text": [
      "2023/09/15 08:53:08 INFO mlflow.store.artifact.artifact_repo: The progress bar can be disabled by setting the environment variable MLFLOW_ENABLE_ARTIFACTS_PROGRESS_BAR to false\n"
     ]
    },
    {
     "name": "stdout",
     "output_type": "stream",
     "text": [
      "WARNING:tensorflow:From /home/dity/PycharmProjects/dialo_sirius_bot/venv/lib/python3.10/site-packages/mlflow/transformers.py:850: is_gpu_available (from tensorflow.python.framework.test_util) is deprecated and will be removed in a future version.\n",
      "Instructions for updating:\n",
      "Use `tf.config.list_physical_devices('GPU')` instead.\n"
     ]
    },
    {
     "name": "stderr",
     "output_type": "stream",
     "text": [
      "2023-09-15 08:57:47.353288: I tensorflow/compiler/xla/stream_executor/cuda/cuda_gpu_executor.cc:995] successful NUMA node read from SysFS had negative value (-1), but there must be at least one NUMA node, so returning NUMA node zero. See more at https://github.com/torvalds/linux/blob/v6.0/Documentation/ABI/testing/sysfs-bus-pci#L344-L355\n",
      "2023-09-15 08:57:47.354140: W tensorflow/core/common_runtime/gpu/gpu_device.cc:1960] Cannot dlopen some GPU libraries. Please make sure the missing libraries mentioned above are installed properly if you would like to use GPU. Follow the guide at https://www.tensorflow.org/install/gpu for how to download and setup the required libraries for your platform.\n",
      "Skipping registering GPU devices...\n",
      "2023/09/15 08:57:47 WARNING mlflow.transformers: Could not specify device parameter for this pipeline type\n",
      "2023-09-15 08:57:47.431635: I tensorflow/compiler/xla/stream_executor/cuda/cuda_gpu_executor.cc:995] successful NUMA node read from SysFS had negative value (-1), but there must be at least one NUMA node, so returning NUMA node zero. See more at https://github.com/torvalds/linux/blob/v6.0/Documentation/ABI/testing/sysfs-bus-pci#L344-L355\n",
      "2023-09-15 08:57:47.431836: W tensorflow/core/common_runtime/gpu/gpu_device.cc:1960] Cannot dlopen some GPU libraries. Please make sure the missing libraries mentioned above are installed properly if you would like to use GPU. Follow the guide at https://www.tensorflow.org/install/gpu for how to download and setup the required libraries for your platform.\n",
      "Skipping registering GPU devices...\n",
      "All model checkpoint layers were used when initializing TFGPT2LMHeadModel.\n",
      "\n",
      "All the layers of TFGPT2LMHeadModel were initialized from the model checkpoint at /tmp/tmpc5e5p2lr/model.\n",
      "If your task is similar to the task the model of the checkpoint was trained on, you can already use TFGPT2LMHeadModel for predictions without further training.\n"
     ]
    }
   ],
   "source": [
    "dialogue_model = mlflow.pyfunc.load_model(model_uri=\"models:/sirius-dialo-gpt/2\")"
   ],
   "metadata": {
    "collapsed": false,
    "ExecuteTime": {
     "end_time": "2023-09-15T05:57:53.399899652Z",
     "start_time": "2023-09-15T05:52:57.293991890Z"
    }
   },
   "id": "2b430818d8b5343f"
  },
  {
   "cell_type": "code",
   "execution_count": 16,
   "outputs": [
    {
     "name": "stderr",
     "output_type": "stream",
     "text": [
      "The attention mask and the pad token id were not set. As a consequence, you may observe unexpected behavior. Please pass your input's `attention_mask` to obtain reliable results.\n",
      "Setting `pad_token_id` to `eos_token_id`:50256 for open-end generation.\n",
      "A decoder-only architecture is being used, but right-padding was detected! For correct generation results, please set `padding_side='left'` when initializing the tokenizer.\n"
     ]
    },
    {
     "data": {
      "text/plain": "\"I'm good, how are you?\""
     },
     "execution_count": 16,
     "metadata": {},
     "output_type": "execute_result"
    }
   ],
   "source": [
    "dialogue_model.predict(\"How are you?\")"
   ],
   "metadata": {
    "collapsed": false,
    "ExecuteTime": {
     "end_time": "2023-09-14T14:26:31.659078916Z",
     "start_time": "2023-09-14T14:26:27.770937787Z"
    }
   },
   "id": "e6a5fd3ee00fbfac"
  },
  {
   "cell_type": "code",
   "execution_count": null,
   "outputs": [],
   "source": [],
   "metadata": {
    "collapsed": false
   },
   "id": "c0a971f8e95163df"
  }
 ],
 "metadata": {
  "kernelspec": {
   "display_name": "Python 3",
   "language": "python",
   "name": "python3"
  },
  "language_info": {
   "codemirror_mode": {
    "name": "ipython",
    "version": 2
   },
   "file_extension": ".py",
   "mimetype": "text/x-python",
   "name": "python",
   "nbconvert_exporter": "python",
   "pygments_lexer": "ipython2",
   "version": "2.7.6"
  }
 },
 "nbformat": 4,
 "nbformat_minor": 5
}
